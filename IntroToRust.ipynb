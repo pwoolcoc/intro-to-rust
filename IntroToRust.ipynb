{
 "cells": [
  {
   "cell_type": "markdown",
   "metadata": {
    "slideshow": {
     "slide_type": "slide"
    }
   },
   "source": [
    "![Rust Logo](files/rust-logo-64x64-blk.png)\n",
    "\n",
    "# Rust\n",
    "\n",
    "[http://rust-lang.org/](http://rust-lang.org)"
   ]
  },
  {
   "cell_type": "markdown",
   "metadata": {
    "slideshow": {
     "slide_type": "slide"
    }
   },
   "source": [
    "## What this presentation is"
   ]
  },
  {
   "cell_type": "markdown",
   "metadata": {
    "slideshow": {
     "slide_type": "fragment"
    }
   },
   "source": [
    "  * Introduction to Rust\n",
    "  * Discussion of design, features, tradeoffs"
   ]
  },
  {
   "cell_type": "markdown",
   "metadata": {
    "slideshow": {
     "slide_type": "slide"
    }
   },
   "source": [
    "## What this presentation is not"
   ]
  },
  {
   "cell_type": "markdown",
   "metadata": {
    "slideshow": {
     "slide_type": "fragment"
    }
   },
   "source": [
    "  * Golang vs. Rust"
   ]
  },
  {
   "cell_type": "markdown",
   "metadata": {
    "slideshow": {
     "slide_type": "slide"
    }
   },
   "source": [
    "## What is Rust?"
   ]
  },
  {
   "cell_type": "markdown",
   "metadata": {
    "slideshow": {
     "slide_type": "subslide"
    }
   },
   "source": [
    "Systems programming language developed initially by Mozilla"
   ]
  },
  {
   "cell_type": "markdown",
   "metadata": {},
   "source": [
    "Now a community project"
   ]
  },
  {
   "cell_type": "markdown",
   "metadata": {
    "slideshow": {
     "slide_type": "subslide"
    }
   },
   "source": [
    "Pursuing the trifecta:\n",
    "\n",
    "1. Safe\n",
    "2. Concurrent\n",
    "3. Fast"
   ]
  },
  {
   "cell_type": "markdown",
   "metadata": {
    "slideshow": {
     "slide_type": "subslide"
    }
   },
   "source": [
    "Zero-cost abstractions\n",
    "\n",
    "Guaranteed memory safety\n",
    "\n",
    "No data races\n",
    "\n",
    "Close to the metal\n",
    "\n",
    "Seamless C interop"
   ]
  },
  {
   "cell_type": "markdown",
   "metadata": {
    "slideshow": {
     "slide_type": "slide"
    }
   },
   "source": [
    "## What does Rust look like?"
   ]
  },
  {
   "cell_type": "markdown",
   "metadata": {
    "slideshow": {
     "slide_type": "slide"
    }
   },
   "source": [
    "```rust\n",
    "// Hello, World\n",
    "\n",
    "fn main() {\n",
    "    println!(\"Hello, World!\");\n",
    "}\n",
    "```"
   ]
  },
  {
   "cell_type": "markdown",
   "metadata": {
    "slideshow": {
     "slide_type": "subslide"
    }
   },
   "source": [
    "```rust\n",
    "// more Hello, World\n",
    "\n",
    "fn say_hello(s: &str) {\n",
    "    println!(\"Hello, {}\", s);\n",
    "}\n",
    "\n",
    "fn main() {\n",
    "    let greeting = \"World\";\n",
    "    say_hello(greeting); // Hello, World\n",
    "    \n",
    "    let greeting: String = \"World\".to_string();\n",
    "    say_hello(&greeting); // Hello, World\n",
    "    \n",
    "    let greeting: String = greeting\n",
    "                               .chars()\n",
    "                               .rev()\n",
    "                               .collect();\n",
    "    say_hello(&greeting); // Hello, dlroW\n",
    "}\n",
    "```"
   ]
  },
  {
   "cell_type": "markdown",
   "metadata": {
    "slideshow": {
     "slide_type": "subslide"
    }
   },
   "source": [
    "```rust\n",
    "// Type Inference\n",
    "\n",
    "fn main() {\n",
    "    let greeting = \"World\";\n",
    "    println!(\"Hello, {}\", greeting);\n",
    "}\n",
    "```"
   ]
  },
  {
   "cell_type": "markdown",
   "metadata": {
    "slideshow": {
     "slide_type": "subslide"
    }
   },
   "source": [
    "```rust\n",
    "// Types must be specified in function parameters, and in certain\n",
    "// other places where the compiler doesn't have enough information\n",
    "// to determine a type.\n",
    "\n",
    "fn add_one(x: i32) -> i32 {\n",
    "    x + 1\n",
    "}\n",
    "\n",
    "add_one(1); // 2\n",
    "add_one(1_i32); // 2\n",
    "add_one(1_u64); // COMPILE ERROR\n",
    "add_one(1_u64 as i32); // 2\n",
    "```"
   ]
  },
  {
   "cell_type": "markdown",
   "metadata": {
    "slideshow": {
     "slide_type": "subslide"
    }
   },
   "source": [
    "```rust\n",
    "// Immutable data\n",
    "\n",
    "// By default, all bindings are immutable\n",
    "\n",
    "fn main() {\n",
    "    let greeting = \"World\";\n",
    "    greeting = \"Foo\"; // COMPILE ERROR\n",
    "}\n",
    "```"
   ]
  },
  {
   "cell_type": "markdown",
   "metadata": {
    "slideshow": {
     "slide_type": "fragment"
    }
   },
   "source": [
    "```rust\n",
    "// Variables must explicitly be marked as mutable\n",
    "\n",
    "fn main() {\n",
    "    let mut greeting = \"World\";\n",
    "    greeting = \"Foo\" // Happy compiler\n",
    "}\n",
    "```"
   ]
  },
  {
   "cell_type": "markdown",
   "metadata": {
    "collapsed": true,
    "slideshow": {
     "slide_type": "fragment"
    }
   },
   "source": [
    "```rust\n",
    "// However, re-binding is possible:\n",
    "\n",
    "fn main() {\n",
    "    let mut foo = Bar::new();\n",
    "    foo.some_property = \"some value\";\n",
    "\n",
    "    let foo = foo.finalize();  // previous mutable binding replaced with immutable binding\n",
    "}\n",
    "```"
   ]
  },
  {
   "cell_type": "markdown",
   "metadata": {
    "slideshow": {
     "slide_type": "slide"
    }
   },
   "source": [
    "## Types"
   ]
  },
  {
   "cell_type": "markdown",
   "metadata": {
    "slideshow": {
     "slide_type": "slide"
    }
   },
   "source": [
    "### Primitive types\n",
    "\n",
    "<br>\n",
    "\n",
    "```rust\n",
    "// Numeric types\n",
    "let x: u8 = 255;\n",
    "let x: u32 = 1;\n",
    "let x: i64 = -2;\n",
    "let x: usize = 45;\n",
    "let x: f32 = 1.0;\n",
    "\n",
    "// Strings\n",
    "let x: &'static str = \"Hello, Wold\"; // str\n",
    "\n",
    "// Char\n",
    "let x: char = 'a';\n",
    "\n",
    "// Boolean\n",
    "let x: bool = true;\n",
    "\n",
    "// Tuples\n",
    "let x: (u32, u32) = (1, 2);\n",
    "\n",
    "// Array\n",
    "let x: [u32; 4] = [1, 2, 3, 4];\n",
    "\n",
    "// Slice\n",
    "let x: &[u32] = &x[0..2];\n",
    "```"
   ]
  },
  {
   "cell_type": "markdown",
   "metadata": {
    "slideshow": {
     "slide_type": "subslide"
    }
   },
   "source": [
    "```rust\n",
    "// Aside about strings\n",
    "\n",
    "// 1\n",
    "let x: String = String::new(\"foo\"); // or \"foo\".to_string()\n",
    "\n",
    "// 2\n",
    "let y: &str = &x;\n",
    "\n",
    "// 3\n",
    "let x: &'static str = \"foo\";\n",
    "```"
   ]
  },
  {
   "cell_type": "markdown",
   "metadata": {
    "slideshow": {
     "slide_type": "slide"
    }
   },
   "source": [
    "### Structs\n",
    "\n",
    "<br>\n",
    "\n",
    "```rust\n",
    "struct Point {\n",
    "    x: f32,\n",
    "    y: f32,\n",
    "}\n",
    "```"
   ]
  },
  {
   "cell_type": "markdown",
   "metadata": {
    "slideshow": {
     "slide_type": "subslide"
    }
   },
   "source": [
    "#### Methods on structs\n",
    "\n",
    "<br>\n",
    "\n",
    "```rust\n",
    "struct Point {\n",
    "    x: f32,\n",
    "    y: f32,\n",
    "}\n",
    "\n",
    "impl Point {\n",
    "    fn new(x: f32, y: f32) -> Point {\n",
    "        Point {\n",
    "            x: x,\n",
    "            y: y,\n",
    "        }\n",
    "    }\n",
    "}\n",
    "\n",
    "fn main() {\n",
    "    let p = Point::new(1.0, 1.0);\n",
    "}\n",
    "```"
   ]
  },
  {
   "cell_type": "markdown",
   "metadata": {
    "slideshow": {
     "slide_type": "subslide"
    }
   },
   "source": [
    "#### Methods on structs\n",
    "\n",
    "<br>\n",
    "\n",
    "```rust\n",
    "pub struct Point {\n",
    "    x: f32,\n",
    "    y: f32,\n",
    "}\n",
    "\n",
    "impl Point {\n",
    "    pub fn new(x: f32, y: f32) -> Point {\n",
    "        Point { x: x, y: y }\n",
    "    }\n",
    "    \n",
    "    pub fn distance(&self, other: &Point) -> f32 {\n",
    "        let x_dist = (other.x - self.x).powi(2);\n",
    "        let y_dist = (other.y - self.y).powi(2);\n",
    "        (x_dist + y_dist).sqrt()\n",
    "    }\n",
    "}\n",
    "\n",
    "fn main() {\n",
    "    let p = Point::new(1.0, 1.0);\n",
    "    let q = Point::new(2.0, 2.0);\n",
    "    println!(\"distance: {}\", p.distance(&q));\n",
    "}\n",
    "```"
   ]
  },
  {
   "cell_type": "markdown",
   "metadata": {
    "slideshow": {
     "slide_type": "slide"
    }
   },
   "source": [
    "### Enums\n",
    "\n",
    "<br>\n",
    "\n",
    "```rust\n",
    "enum Color {\n",
    "    Blue,\n",
    "    Red,\n",
    "    Green,\n",
    "}\n",
    "```"
   ]
  },
  {
   "cell_type": "markdown",
   "metadata": {
    "slideshow": {
     "slide_type": "fragment"
    }
   },
   "source": [
    "```rust\n",
    "impl Color {\n",
    "    fn what_color(&self) {\n",
    "        let s = match *self {\n",
    "            Color::Blue => \"Blue\",\n",
    "            Color::Red => \"Red\",\n",
    "            Color::Green => \"Green\",\n",
    "        };\n",
    "        println!(\"color: {}\", s);\n",
    "    }\n",
    "}\n",
    "\n",
    "fn main() {\n",
    "    let x = Color::Red;\n",
    "    x.what_color(); // \"color: Red\"\n",
    "}\n",
    "```"
   ]
  },
  {
   "cell_type": "markdown",
   "metadata": {
    "slideshow": {
     "slide_type": "subslide"
    }
   },
   "source": [
    "```rust\n",
    "enum Either {\n",
    "    Left(u32),\n",
    "    Right(u32),\n",
    "}\n",
    "```"
   ]
  },
  {
   "cell_type": "markdown",
   "metadata": {
    "slideshow": {
     "slide_type": "subslide"
    }
   },
   "source": [
    "#### Aside on matching & patterns\n",
    "\n",
    "<br>\n",
    "\n",
    "```rust\n",
    "// 1\n",
    "match Either::Left(2) {\n",
    "    Either::Right(x) => println!(\"got Right({})\", x),\n",
    "}\n",
    "// Compile error, exhaustiveness checking\n",
    "\n",
    "// 2\n",
    "match Either::Left(2) {\n",
    "    Either::Left(x) => println!(\"got Left({})\", x),\n",
    "    Either::Right(y) => println!(\"got Right({})\", y),\n",
    "}\n",
    "```"
   ]
  },
  {
   "cell_type": "markdown",
   "metadata": {
    "slideshow": {
     "slide_type": "subslide"
    }
   },
   "source": [
    "#### Aside on matching & patterns\n",
    "\n",
    "<br>\n",
    "\n",
    "```rust\n",
    "match (1, 2) {\n",
    "    (x, 1) => {\n",
    "        println!(\"got {}, 1\", x);\n",
    "    },\n",
    "    (1, y) => {\n",
    "        println!(\"got 1, {}\", y);\n",
    "    },\n",
    "    _ => {\n",
    "        println!(\"default case\");\n",
    "    },\n",
    "}\n",
    "```"
   ]
  },
  {
   "cell_type": "markdown",
   "metadata": {
    "collapsed": true,
    "slideshow": {
     "slide_type": "subslide"
    }
   },
   "source": [
    "#### Aside on matching & patterns\n",
    "\n",
    "<br>\n",
    "\n",
    "```rust\n",
    "struct Point { x: f32, y: f32 }\n",
    "\n",
    "enum Either { Left(u32), Right(u32) }\n",
    "\n",
    "fn main() {\n",
    "    let p = Point { x: 1.0, y: 2.0 };\n",
    "    let y = match p {\n",
    "        Point { x, y } => y,\n",
    "    };\n",
    "    println!(\"y: {}\", y);\n",
    "    \n",
    "    let e = Either::Left(2);\n",
    "    let l = match e {\n",
    "        Either::Left(l) => l,\n",
    "        Either::Right(r) => r,\n",
    "    };\n",
    "    println!(\"l: {}\", l);\n",
    "}\n",
    "```"
   ]
  },
  {
   "cell_type": "markdown",
   "metadata": {
    "slideshow": {
     "slide_type": "slide"
    }
   },
   "source": [
    "## References & Borrowing"
   ]
  },
  {
   "cell_type": "markdown",
   "metadata": {
    "slideshow": {
     "slide_type": "subslide"
    }
   },
   "source": [
    "![Thats-the-entire-model](files/rust-nomicon-quote.png)\n",
    "\n",
    "[source](https://twitter.com/QEDunham/status/689596292029251584])"
   ]
  },
  {
   "cell_type": "markdown",
   "metadata": {
    "slideshow": {
     "slide_type": "subslide"
    }
   },
   "source": [
    "There are two kinds of reference:\n",
    "\n",
    "  * Shared reference: `&`\n",
    "  * Mutable reference: `&mut`\n",
    "\n",
    "Which obey the following rules:\n",
    "\n",
    "  * A reference cannot outlive its referent\n",
    "  * A mutable reference cannot be aliased\n",
    "  \n",
    "That's it. That's the entire model.\n",
    "\n",
    "[source](https://doc.rust-lang.org/nightly/nomicon/references.html)"
   ]
  },
  {
   "cell_type": "markdown",
   "metadata": {
    "slideshow": {
     "slide_type": "subslide"
    }
   },
   "source": [
    "```rust\n",
    "struct Person;\n",
    "\n",
    "fn main() {\n",
    "    // Only one owner allowed\n",
    "    let x = Person;\n",
    "    let y = &x; // y \"borrows\" x\n",
    "    let z = *y; // Error: trying to move borrowed value\n",
    "}\n",
    "```"
   ]
  },
  {
   "cell_type": "markdown",
   "metadata": {
    "slideshow": {
     "slide_type": "subslide"
    }
   },
   "source": [
    "```rust\n",
    "struct Person;\n",
    "\n",
    "fn main() {\n",
    "    let x = Person;\n",
    "    let y = &mut x;\n",
    "    let z = &mut x; // Error: x is already mutably borrowed\n",
    "}\n",
    "\n",
    "fn main2() {\n",
    "    let x = Person;\n",
    "    {\n",
    "        let y = &mut x;\n",
    "        // do something with y\n",
    "    }\n",
    "    let z = &mut x; // Ok\n",
    "}\n",
    "```"
   ]
  },
  {
   "cell_type": "markdown",
   "metadata": {
    "slideshow": {
     "slide_type": "subslide"
    }
   },
   "source": [
    "```rust\n",
    "fn borrow_something_immutably(x: &Either);\n",
    "\n",
    "fn borrow_something_mutably(x: &mut Either);\n",
    "\n",
    "fn take_ownership(x: Either);\n",
    "```"
   ]
  },
  {
   "cell_type": "markdown",
   "metadata": {
    "slideshow": {
     "slide_type": "slide"
    }
   },
   "source": [
    "## Traits"
   ]
  },
  {
   "cell_type": "markdown",
   "metadata": {
    "slideshow": {
     "slide_type": "subslide"
    }
   },
   "source": [
    "```rust\n",
    "trait Display {\n",
    "    fn fmt(&self, &mut Formatter);\n",
    "}\n",
    "```"
   ]
  },
  {
   "cell_type": "markdown",
   "metadata": {
    "slideshow": {
     "slide_type": "fragment"
    }
   },
   "source": [
    "```rust\n",
    "struct Person { name: String, age: u32 }\n",
    "\n",
    "impl Display for Person {\n",
    "    fn fmt(&self, f: &mut Formatter) {\n",
    "        // work\n",
    "    }\n",
    "}\n",
    "```"
   ]
  },
  {
   "cell_type": "markdown",
   "metadata": {},
   "source": [
    "```rust\n",
    "trait Read {\n",
    "    // required to implement trait\n",
    "    fn read(&mut self, buf: &mut [u8]) -> Result<usize, io::Error>;\n",
    "    \n",
    "    // rest are optional...\n",
    "    \n",
    "    fn read_to_end(&mut self, buf: &mut Vec<u8>) -> Result<usize, io::Error> {\n",
    "        // implementation using .read()\n",
    "    }\n",
    "\n",
    "    fn read_to_string(&mut self, buf: &mut String) -> Result<usize, io::Error> {\n",
    "        // implementation using .read()\n",
    "    }\n",
    "    \n",
    "    // ...more methods\n",
    "}\n",
    "```"
   ]
  },
  {
   "cell_type": "markdown",
   "metadata": {
    "slideshow": {
     "slide_type": "slide"
    }
   },
   "source": [
    "## Generics"
   ]
  },
  {
   "cell_type": "markdown",
   "metadata": {
    "slideshow": {
     "slide_type": "subslide"
    }
   },
   "source": [
    "```rust\n",
    "fn do_something<T>(x: &T) {\n",
    "    // do something with x\n",
    "}\n",
    "\n",
    "do_something(&3);\n",
    "do_something(\"hello, world\");  // type is &'static str, so it can be a &T\n",
    "```"
   ]
  },
  {
   "cell_type": "markdown",
   "metadata": {
    "slideshow": {
     "slide_type": "subslide"
    }
   },
   "source": [
    "```rust\n",
    "fn add_one<T: Add>(x: T) -> usize {\n",
    "    x + 1\n",
    "}\n",
    "\n",
    "add_one(1_u32) // 2\n",
    "add_one(1 as usize) // 2\n",
    "```"
   ]
  },
  {
   "cell_type": "markdown",
   "metadata": {
    "slideshow": {
     "slide_type": "slide"
    }
   },
   "source": [
    "## Error Handling"
   ]
  },
  {
   "cell_type": "markdown",
   "metadata": {
    "slideshow": {
     "slide_type": "subslide"
    }
   },
   "source": [
    "```rust\n",
    "enum Result<T, E> {\n",
    "    Ok(T),\n",
    "    Err(E)\n",
    "}\n",
    "\n",
    "fn might_fail(x: bool) -> Result<u32, String> {\n",
    "    if x {\n",
    "        Ok(1)\n",
    "    } else {\n",
    "        Err(String::new(\"Some error\"))\n",
    "    }\n",
    "}\n",
    "\n",
    "// Usually you would use a dedicated type for the Error condition, not just a String\n",
    "\n",
    "```"
   ]
  },
  {
   "cell_type": "markdown",
   "metadata": {
    "slideshow": {
     "slide_type": "fragment"
    }
   },
   "source": [
    "```rust\n",
    "fn main() {\n",
    "    match might_fail(true) {\n",
    "        Ok(x) => println!(\"got result {}\", x),\n",
    "        Err(e) => println!(\"error message was {}\", e),\n",
    "    }\n",
    "}\n",
    "```"
   ]
  },
  {
   "cell_type": "markdown",
   "metadata": {
    "slideshow": {
     "slide_type": "subslide"
    }
   },
   "source": [
    "```rust\n",
    "let x: u32 = try!(might_fail(true));\n",
    "```"
   ]
  },
  {
   "cell_type": "markdown",
   "metadata": {
    "slideshow": {
     "slide_type": "fragment"
    }
   },
   "source": [
    "```rust\n",
    "let x: u32 = {\n",
    "    match might_fail(true) {\n",
    "        Ok(x) => x,\n",
    "        Err(e) => return Err(e),\n",
    "    }\n",
    "};\n",
    "```"
   ]
  },
  {
   "cell_type": "markdown",
   "metadata": {
    "slideshow": {
     "slide_type": "subslide"
    }
   },
   "source": [
    "```rust\n",
    "fn always_fails() {\n",
    "    panic!(\"This is a panic message\");\n",
    "}\n",
    "```"
   ]
  },
  {
   "cell_type": "markdown",
   "metadata": {
    "slideshow": {
     "slide_type": "slide"
    }
   },
   "source": [
    "## Concurrency"
   ]
  },
  {
   "cell_type": "markdown",
   "metadata": {
    "slideshow": {
     "slide_type": "subslide"
    }
   },
   "source": [
    "```rust\n",
    "use std::thread;\n",
    "use std::sync::mpsc::channel;\n",
    "\n",
    "fn main() {\n",
    "    let data = 0;\n",
    "    let N = 10;\n",
    "    \n",
    "    let (tx, rx) = channel();\n",
    "    \n",
    "    for _ in 0..10 {\n",
    "        let tx = tx.clone();\n",
    "        thread::spawn(move || {\n",
    "            data += 1; // COMPILE ERROR\n",
    "            if data == N {\n",
    "                let send_result = tx.send(());\n",
    "            }\n",
    "        })    \n",
    "    }\n",
    "    \n",
    "    match rx.recv() {\n",
    "        Ok(()) => println!(\"successfully received ()\"),\n",
    "        Ok(_) => println!(\"Error!\"),\n",
    "        Err(_) => println!(\"Error!\"),\n",
    "    }\n",
    "}\n",
    "```"
   ]
  },
  {
   "cell_type": "markdown",
   "metadata": {
    "slideshow": {
     "slide_type": "subslide"
    }
   },
   "source": [
    "```rust\n",
    "use std::thread;\n",
    "use std::sync::{Arc, Mutex};\n",
    "use std::sync::mpsc::channel;\n",
    "\n",
    "fn main() {\n",
    "    let data = Arc::new(Mutex::new(0));\n",
    "    let N = 10;\n",
    "    \n",
    "    let (tx, rx) = channel();\n",
    "    \n",
    "    for _ in 0..10 {\n",
    "        let (data, tx) = (data.clone(), tx.clone()); // Arc refcount gets +1\n",
    "        thread::spawn(move || {\n",
    "            let mut data = data.lock().unwrap(); // Should do actual error handling here\n",
    "            *data += 1;\n",
    "            if *data == N {\n",
    "                let send_result = tx.send(());\n",
    "            }\n",
    "        }); \n",
    "    }\n",
    "    \n",
    "    match rx.recv() {\n",
    "        Ok(()) => println!(\"successfully received ()\"),\n",
    "        Ok(_) => println!(\"Error!\"),t\n",
    "        Err(_) => println!(\"Error!\"),\n",
    "    }\n",
    "}\n",
    "```"
   ]
  },
  {
   "cell_type": "markdown",
   "metadata": {
    "slideshow": {
     "slide_type": "slide"
    }
   },
   "source": [
    "## Crates & Modules"
   ]
  },
  {
   "cell_type": "markdown",
   "metadata": {
    "slideshow": {
     "slide_type": "subslide"
    }
   },
   "source": [
    "#### Crate\n",
    "\n",
    "Unit of compilation"
   ]
  },
  {
   "cell_type": "markdown",
   "metadata": {
    "slideshow": {
     "slide_type": "subslide"
    }
   },
   "source": [
    "#### Module\n",
    "\n",
    "Used for organization within a crate"
   ]
  },
  {
   "cell_type": "markdown",
   "metadata": {
    "slideshow": {
     "slide_type": "fragment"
    }
   },
   "source": [
    "```rust\n",
    "// lib.rs\n",
    "mod some_module {\n",
    "    // ...\n",
    "}\n",
    "\n",
    "mod other_module; // causes rustc to look for the code in either\n",
    "                  // other_module.rs or other_module/mod.rs\n",
    "```"
   ]
  },
  {
   "cell_type": "markdown",
   "metadata": {
    "slideshow": {
     "slide_type": "slide"
    }
   },
   "source": [
    "### Cargo & crates.io"
   ]
  },
  {
   "cell_type": "markdown",
   "metadata": {
    "slideshow": {
     "slide_type": "subslide"
    }
   },
   "source": [
    "```bash\n",
    "$ cargo new my-new-project\n",
    "```\n",
    "\n",
    "* Package manager\n",
    "* Build tool\n",
    "* Documentation generator\n",
    "* Test runner"
   ]
  },
  {
   "cell_type": "markdown",
   "metadata": {
    "slideshow": {
     "slide_type": "subslide"
    }
   },
   "source": [
    "```ini\n",
    "[package]\n",
    "name = \"my-new-project\"\n",
    "version = \"0.1.0\"\n",
    "authors = [\"John Doe <jdoe@example.com>\"]\n",
    "```"
   ]
  },
  {
   "cell_type": "markdown",
   "metadata": {
    "slideshow": {
     "slide_type": "fragment"
    }
   },
   "source": [
    "```ini\n",
    "[lib]\n",
    "name = \"mylib\"\n",
    "path = \"src/lib.rs\"\n",
    "```"
   ]
  },
  {
   "cell_type": "markdown",
   "metadata": {
    "slideshow": {
     "slide_type": "fragment"
    }
   },
   "source": [
    "```ini\n",
    "[[bin]]\n",
    "name = \"mybin\"\n",
    "path = \"src/bin/mybin.rs\"\n",
    "```"
   ]
  },
  {
   "cell_type": "markdown",
   "metadata": {
    "slideshow": {
     "slide_type": "fragment"
    }
   },
   "source": [
    "```ini\n",
    "[dependencies]\n",
    "libc = \"~0.2.4\"\n",
    "```"
   ]
  },
  {
   "cell_type": "markdown",
   "metadata": {
    "slideshow": {
     "slide_type": "fragment"
    }
   },
   "source": [
    "```ini\n",
    "[dev-dependencies]\n",
    "hamcrest = \"*\"\n",
    "```"
   ]
  },
  {
   "cell_type": "markdown",
   "metadata": {
    "slideshow": {
     "slide_type": "slide"
    }
   },
   "source": [
    "### Testing"
   ]
  },
  {
   "cell_type": "markdown",
   "metadata": {
    "slideshow": {
     "slide_type": "subslide"
    }
   },
   "source": [
    "```rust\n",
    "// src/lib.rs\n",
    "\n",
    "pub fn add_one(x: i32) -> i32 {\n",
    "    x + 1\n",
    "}\n",
    "```"
   ]
  },
  {
   "cell_type": "markdown",
   "metadata": {
    "slideshow": {
     "slide_type": "fragment"
    }
   },
   "source": [
    "```rust\n",
    "\n",
    "#[cfg(test)]\n",
    "mod tests {\n",
    "    use super::add_one;\n",
    "    \n",
    "    #[test]\n",
    "    fn test_add_one() {\n",
    "        assert_eq!(\n",
    "            add_one(1),\n",
    "            2\n",
    "        );\n",
    "    }\n",
    "\n",
    "}\n",
    "```"
   ]
  },
  {
   "cell_type": "markdown",
   "metadata": {
    "slideshow": {
     "slide_type": "subslide"
    }
   },
   "source": [
    "```bash\n",
    "$ cargo test\n",
    "```"
   ]
  },
  {
   "cell_type": "markdown",
   "metadata": {
    "slideshow": {
     "slide_type": "subslide"
    }
   },
   "source": [
    "```rust\n",
    "// tests/integration.rs\n",
    "extern crate mylib;\n",
    "use mylib::add_one;\n",
    "\n",
    "#[test]\n",
    "fn integration_test_one() {\n",
    "    assert_eq!(\n",
    "        add_one(2),\n",
    "        3\n",
    "    );\n",
    "}\n",
    "\n",
    "```"
   ]
  },
  {
   "cell_type": "markdown",
   "metadata": {
    "slideshow": {
     "slide_type": "slide"
    }
   },
   "source": [
    "### Documentation"
   ]
  },
  {
   "cell_type": "markdown",
   "metadata": {
    "slideshow": {
     "slide_type": "subslide"
    }
   },
   "source": [
    "```rust\n",
    "// src/lib.rs\n",
    "//! This is crate-level documentation. Here is where you would give a\n",
    "//! general overview of your crate, along with any background \n",
    "//! information that could be useful (RFCs, etc)\n",
    "\n",
    "/// This is specifically for the item that comes after it. \n",
    "/// Here is where you would put information about `SomeDataStructure`\n",
    "struct SomeDataStructure {\n",
    "    // ...\n",
    "}\n",
    "\n",
    "impl SomeDataStructure {\n",
    "\n",
    "    /// You can include examples with your code, that will show up in the \n",
    "    /// documentation. The best part of this is that the examples are compiled\n",
    "    /// and can be run with your tests. So, if the example code in your \n",
    "    /// documentation goes out-of-sync with your code, your tests will fail!\n",
    "    ///\n",
    "    /// # Example\n",
    "    ///\n",
    "    /// ```rust\n",
    "    /// let ds = SomeDataStructure { .. };\n",
    "    /// assert_eq!(ds.some_method(), \"some value\");\n",
    "    /// ``````\n",
    "```rust\n",
    "    fn some_method(&self) {\n",
    "        // ...\n",
    "    }\n",
    "    \n",
    "}\n",
    "```"
   ]
  },
  {
   "cell_type": "markdown",
   "metadata": {
    "slideshow": {
     "slide_type": "slide"
    }
   },
   "source": [
    "### Community"
   ]
  },
  {
   "cell_type": "markdown",
   "metadata": {
    "slideshow": {
     "slide_type": "subslide"
    }
   },
   "source": [
    "* Github: https://github.com/rust-lang\n",
    "* Web: https://www.rust-lang.org/\n",
    "* IRC: irc.mozilla.org\n",
    "  * #rust\n",
    "  * #rust-beginners\n",
    "* Discourse forum: https://users.rust-lang.org\n",
    "* Reddit: https://reddit.com/r/rust"
   ]
  },
  {
   "cell_type": "markdown",
   "metadata": {
    "slideshow": {
     "slide_type": "slide"
    }
   },
   "source": [
    "### Stuff I didn't cover?\n",
    "\n",
    "* Macros\n",
    "* Conditional compliation\n",
    "* cargo build scripts\n",
    "* FFI\n",
    "* Probably a lot more"
   ]
  }
 ],
 "metadata": {
  "celltoolbar": "Slideshow",
  "kernelspec": {
   "display_name": "Python 2",
   "language": "python",
   "name": "python2"
  },
  "language_info": {
   "codemirror_mode": {
    "name": "ipython",
    "version": 2
   },
   "file_extension": ".py",
   "mimetype": "text/x-python",
   "name": "python",
   "nbconvert_exporter": "python",
   "pygments_lexer": "ipython2",
   "version": "2.7.6"
  }
 },
 "nbformat": 4,
 "nbformat_minor": 0
}
